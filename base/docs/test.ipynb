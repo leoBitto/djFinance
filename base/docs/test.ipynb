{
 "cells": [
  {
   "cell_type": "code",
   "execution_count": null,
   "metadata": {},
   "outputs": [],
   "source": [
    "import yfinance as yf\n",
    "import plotly.graph_objects as go\n",
    "from datetime import datetime"
   ]
  },
  {
   "cell_type": "code",
   "execution_count": null,
   "metadata": {},
   "outputs": [],
   "source": [
    "ticker = yf.Ticker(\"MSFT\")\n",
    "balanceSheet = ticker.balancesheet\n",
    "financials = ticker.financials\n"
   ]
  },
  {
   "cell_type": "code",
   "execution_count": null,
   "metadata": {},
   "outputs": [],
   "source": [
    "df = ticker.history()\n",
    "\n",
    "fig = go.Figure(data=[go.Candlestick(x=df.index,\n",
    "open=df['Open'],\n",
    "high=df['High'],\n",
    "low=df['Low'],\n",
    "close=df['Close'])])\n",
    "\n",
    "fig.show()\n",
    "\n",
    "\n"
   ]
  },
  {
   "cell_type": "code",
   "execution_count": null,
   "metadata": {},
   "outputs": [],
   "source": []
  },
  {
   "cell_type": "code",
   "execution_count": 29,
   "metadata": {},
   "outputs": [
    {
     "name": "stdout",
     "output_type": "stream",
     "text": [
      "A 0\n",
      "A2A.MI 1\n",
      "AA 2\n",
      "AAC 3\n",
      "AACG 4\n",
      "AACI 5\n",
      "AADI 6\n",
      "AAIC 7\n",
      "AAL 8\n",
      "AAMC 9\n",
      "AAME 10\n",
      "AAN 11\n",
      "AAOI 12\n",
      "AAON 13\n",
      "AAP 14\n",
      "AAPL 15\n",
      "AAQC 16\n",
      "AAT 17\n",
      "AATC 18\n",
      "AAU 19\n",
      "AAWW 20\n",
      "AB 21\n",
      "ABB 22\n",
      "ABBV 23\n",
      "ABC 24\n",
      "ABCB 25\n",
      "ABCL 26\n",
      "ABCM 27\n",
      "ABEO 28\n",
      "ABEV 29\n",
      "ABG 30\n",
      "ABGI 31\n",
      "ABIO 32\n",
      "ABM 33\n",
      "ABMD 34\n",
      "ABNB 35\n",
      "ABOS 36\n",
      "ABR 37\n",
      "ABSI 38\n",
      "ABST 39\n",
      "ABT 40\n",
      "ABTX 41\n",
      "ABUS 42\n",
      "ABVC 43\n",
      "AC 44\n",
      "ACA 45\n",
      "ACAD 46\n",
      "ACAH 47\n",
      "ACAQ 48\n",
      "ACB 49\n",
      "ACBA 50\n",
      "ACBI 51\n",
      "ACC 52\n",
      "ACCD 53\n",
      "ACCO 54\n",
      "ACEL 55\n",
      "ACER 56\n",
      "ACET 57\n",
      "ACEV 58\n",
      "ACGL 59\n",
      "ACH 60\n",
      "ACHC 61\n",
      "ACHL 62\n",
      "ACHR 63\n",
      "ACHV 64\n",
      "ACI 65\n",
      "ACII 66\n",
      "ACIU 67\n",
      "ACIW 68\n",
      "ACKIT 69\n"
     ]
    },
    {
     "ename": "KeyError",
     "evalue": "'sector'",
     "output_type": "error",
     "traceback": [
      "\u001b[0;31m---------------------------------------------------------------------------\u001b[0m",
      "\u001b[0;31mKeyError\u001b[0m                                  Traceback (most recent call last)",
      "\u001b[1;32m/home/leonardo/progetti/DF/src/base/docs/test.ipynb Cella 5\u001b[0m in \u001b[0;36m<cell line: 6>\u001b[0;34m()\u001b[0m\n\u001b[1;32m      <a href='vscode-notebook-cell:/home/leonardo/progetti/DF/src/base/docs/test.ipynb#W5sZmlsZQ%3D%3D?line=6'>7</a>\u001b[0m \u001b[39mprint\u001b[39m(t, tickers\u001b[39m.\u001b[39mindex(t))\n\u001b[1;32m      <a href='vscode-notebook-cell:/home/leonardo/progetti/DF/src/base/docs/test.ipynb#W5sZmlsZQ%3D%3D?line=7'>8</a>\u001b[0m ticker \u001b[39m=\u001b[39m yf\u001b[39m.\u001b[39mTicker(t)\n\u001b[0;32m----> <a href='vscode-notebook-cell:/home/leonardo/progetti/DF/src/base/docs/test.ipynb#W5sZmlsZQ%3D%3D?line=8'>9</a>\u001b[0m sector \u001b[39m=\u001b[39m ticker\u001b[39m.\u001b[39;49minfo[\u001b[39m'\u001b[39;49m\u001b[39msector\u001b[39;49m\u001b[39m'\u001b[39;49m]\u001b[39m.\u001b[39mreplace(\u001b[39m\"\u001b[39m\u001b[39m \u001b[39m\u001b[39m\"\u001b[39m, \u001b[39m\"\u001b[39m\u001b[39m_\u001b[39m\u001b[39m\"\u001b[39m)\n\u001b[1;32m     <a href='vscode-notebook-cell:/home/leonardo/progetti/DF/src/base/docs/test.ipynb#W5sZmlsZQ%3D%3D?line=9'>10</a>\u001b[0m \u001b[39mif\u001b[39;00m sector \u001b[39min\u001b[39;00m dicount:\n\u001b[1;32m     <a href='vscode-notebook-cell:/home/leonardo/progetti/DF/src/base/docs/test.ipynb#W5sZmlsZQ%3D%3D?line=10'>11</a>\u001b[0m     dicount[sector] \u001b[39m=\u001b[39m dicount[sector] \u001b[39m+\u001b[39m\u001b[39m1\u001b[39m\n",
      "\u001b[0;31mKeyError\u001b[0m: 'sector'"
     ]
    }
   ],
   "source": [
    "from settings import *\n",
    "import yfinance as yf\n",
    "\n",
    "dicount = {}\n",
    "\n",
    "for t in tickers[:500]:\n",
    "    print(t, tickers.index(t))\n",
    "    ticker = yf.Ticker(t)\n",
    "    try:\n",
    "        sector = ticker.info['sector'].replace(\" \", \"_\")\n",
    "    except Exception as e:\n",
    "        print(e)\n",
    "    else:\n",
    "        continue\n",
    "    if sector in dicount:\n",
    "        dicount[sector] = dicount[sector] +1\n",
    "    else:\n",
    "        dicount[sector] = 1\n",
    "\n",
    "for key, value in dicount.items():\n",
    "        print(key, value)\n",
    "\n",
    "print(sectors)"
   ]
  },
  {
   "cell_type": "markdown",
   "metadata": {},
   "source": [
    "1. usare i df per settori per calcolare le medie dei vari indici"
   ]
  },
  {
   "cell_type": "code",
   "execution_count": 31,
   "metadata": {},
   "outputs": [
    {
     "data": {
      "text/plain": [
       "({'Healthcare': 23,\n",
       "  'Utilities': 1,\n",
       "  'Basic_Materials': 3,\n",
       "  'Financial_Services': 17,\n",
       "  'Consumer_Defensive': 3,\n",
       "  'Real_Estate': 4,\n",
       "  'Industrials': 9,\n",
       "  'Technology': 5,\n",
       "  'Consumer_Cyclical': 4},\n",
       " ['Healthcare',\n",
       "  'Materials',\n",
       "  'SPAC',\n",
       "  'Discretionary',\n",
       "  'Real Estate',\n",
       "  'Industrial',\n",
       "  'Financials',\n",
       "  'Information Technology',\n",
       "  'Staples',\n",
       "  'Services',\n",
       "  'Utilities',\n",
       "  'Communication',\n",
       "  'Energy'])"
      ]
     },
     "execution_count": 31,
     "metadata": {},
     "output_type": "execute_result"
    }
   ],
   "source": [
    "dicount, sectors"
   ]
  },
  {
   "cell_type": "code",
   "execution_count": 9,
   "metadata": {},
   "outputs": [
    {
     "data": {
      "text/plain": [
       "['Healthcare',\n",
       " 'Materials',\n",
       " 'SPAC',\n",
       " 'Discretionary',\n",
       " 'Real Estate',\n",
       " 'Industrial',\n",
       " 'Financials',\n",
       " 'Information Technology',\n",
       " 'Staples',\n",
       " 'Services',\n",
       " 'Utilities',\n",
       " 'Communication',\n",
       " 'Energy']"
      ]
     },
     "execution_count": 9,
     "metadata": {},
     "output_type": "execute_result"
    }
   ],
   "source": [
    "\n",
    "sector_list_from_yahoo = dicount\n",
    "\n",
    "for sector, value in sector_list_from_yahoo.items():\n",
    "\n",
    "\n",
    "    sector_df ={\n",
    "        'CR':[],\n",
    "        'QR':[],\n",
    "        'copertura_immobilizzazioni':[],\n",
    "        'RI':[],\n",
    "        'copertura_interessi_passivi':[],\n",
    "        'ROD':[],\n",
    "        'ROE':[],\n",
    "        #il seguente potrebbe essere errato dato che non rispetta le\n",
    "        # uguaglianze di modigliani miller\n",
    "        'ROA':[],\n",
    "        \n",
    "        'ROS':[],\n",
    "        'ROI':[],\n",
    "        'ROT':[],\n",
    "        'rotazione_attivo_circolante':[],\n",
    "        \n",
    "    }\n",
    "\n",
    "\n",
    "    # use the dates to get the history\n",
    "    start_date = dt.datetime('01-01-2022')\n",
    "    end_date = dt.datetime.today()\n",
    "    counter = 0\n",
    "    try:\n",
    "        # try to get the info about the ticker ### yfinance \n",
    "        ticker = yf.Ticker(t)\n",
    "        if ticker.info['sector'] == sector:\n",
    "            \n",
    "            # get the balance sheet and the financial statement ### yfinance\n",
    "            balanceSheet = ticker.balance_sheet\n",
    "            financials = ticker.financials\n",
    "\n",
    "            # get tha various voice of the balance sheet and financials\n",
    "            # to calculate the indices                          ### yfinance \n",
    "            total_current_assets = balanceSheet.iloc[18][0]\n",
    "            total_current_liabilities = balanceSheet.iloc[13][0]\n",
    "            inventory = balanceSheet.iloc[-2][0]\n",
    "            total_stockholder_equity = balanceSheet.iloc[2][0]\n",
    "            net_tangible_assets = balanceSheet.iloc[20][0]\n",
    "            short_long_term_debt = balanceSheet.iloc[15][0]\n",
    "            ebit = financials.iloc[7][0]\n",
    "            interest_expense = financials.iloc[10][0]\n",
    "            invested_capital = total_stockholder_equity + short_long_term_debt\n",
    "            total_revenue = financials.iloc[15][0]\n",
    "            income_before_taxes = financials.iloc[2][0]\n",
    "            operating_income = financials.iloc[8][0]\n",
    "\n",
    "            #calculate indices gives str 'Null' if the index cant be calculated\n",
    "            ## yfinance gives interest expenses as negative\n",
    "            sector_df['CR'].append(round(total_current_assets / total_current_liabilities, 5) if total_current_assets is not None and total_current_liabilities is not None else 'Null')\n",
    "            sector_df['QR'].append(round((total_current_assets - inventory)/total_current_liabilities, 5) if total_current_assets-inventory is not None and total_current_liabilities is not None else 'Null')\n",
    "            sector_df['copertura_immobilizzazioni'].append(round(total_stockholder_equity/net_tangible_assets, 5) if total_stockholder_equity is not None and net_tangible_assets is not None else 'Null')\n",
    "            sector_df['RI'].append(round(short_long_term_debt / total_stockholder_equity, 5) if short_long_term_debt is not None and total_stockholder_equity is not None else 'Null')\n",
    "            sector_df['copertura_interessi_passivi'].append(round(ebit/interest_expense, 5)  if ebit is not None and interest_expense is not None else 'Null')\n",
    "            sector_df['ROD'].append(round(interest_expense/short_long_term_debt, 5) if interest_expense is not None and short_long_term_debt is not None else 'Null')\n",
    "            sector_df['ROE'].append(round(income_before_taxes/total_stockholder_equity, 5)  if income_before_taxes is not None and total_stockholder_equity is not None else 'Null')\n",
    "            #il seguente potrebbe essere errato dato che non rispetta le\n",
    "            # uguaglianze di modigliani miller\n",
    "            sector_df['ROA'].append(round(operating_income/total_current_assets, 5)  if operating_income is not None and total_current_assets is not None else 'Null')\n",
    "            \n",
    "            sector_df['ROS'].append(round(operating_income/total_revenue, 5)  if operating_income is not None and total_revenue is not None else 'Null')\n",
    "            sector_df['ROI'].append(round(ebit/invested_capital, 5)  if ebit is not None and invested_capital is not None else 'Null')\n",
    "            sector_df['ROT'].append(round(total_revenue/invested_capital, 5)  if total_revenue is not None and invested_capital is not None else 'Null')\n",
    "            sector_df['rotazione_attivo_circolante'].append(round(total_revenue/total_current_assets, 5)  if total_revenue is not None and total_current_assets is not None else 'Null')\n",
    "            counter += 1\n",
    "    except KeyError as e:    \n",
    "        print('error', e)\n",
    "    else:\n",
    "        print(t, \" has been done\")\n",
    "        print(\"done\", counter, \"on\", len(tickers))\n",
    "    print(sector)\n",
    "    for key, value in sector_df:\n",
    "        mean = np.mean(value)\n",
    "        print(key, mean)\n",
    "\n",
    "\n"
   ]
  },
  {
   "cell_type": "code",
   "execution_count": 12,
   "metadata": {},
   "outputs": [
    {
     "ename": "AttributeError",
     "evalue": "'list' object has no attribute 'mean'",
     "output_type": "error",
     "traceback": [
      "\u001b[0;31m---------------------------------------------------------------------------\u001b[0m",
      "\u001b[0;31mAttributeError\u001b[0m                            Traceback (most recent call last)",
      "\u001b[1;32m/home/leonardo/progetti/DF/src/base/docs/test.ipynb Cella 7\u001b[0m in \u001b[0;36m<cell line: 1>\u001b[0;34m()\u001b[0m\n\u001b[0;32m----> <a href='vscode-notebook-cell:/home/leonardo/progetti/DF/src/base/docs/test.ipynb#W6sZmlsZQ%3D%3D?line=0'>1</a>\u001b[0m [\u001b[39m1\u001b[39;49m,\u001b[39m2\u001b[39;49m,\u001b[39m3\u001b[39;49m,\u001b[39m4\u001b[39;49m,\u001b[39m5\u001b[39;49m]\u001b[39m.\u001b[39;49mmean()\n",
      "\u001b[0;31mAttributeError\u001b[0m: 'list' object has no attribute 'mean'"
     ]
    }
   ],
   "source": []
  }
 ],
 "metadata": {
  "kernelspec": {
   "display_name": "Python 3.10.4 ('env': venv)",
   "language": "python",
   "name": "python3"
  },
  "language_info": {
   "codemirror_mode": {
    "name": "ipython",
    "version": 3
   },
   "file_extension": ".py",
   "mimetype": "text/x-python",
   "name": "python",
   "nbconvert_exporter": "python",
   "pygments_lexer": "ipython3",
   "version": "3.10.4"
  },
  "orig_nbformat": 4,
  "vscode": {
   "interpreter": {
    "hash": "b2c891ec782d3bf35d845fcc587734f902e6241cd8d95ca79b7e19b17bf0717d"
   }
  }
 },
 "nbformat": 4,
 "nbformat_minor": 2
}
